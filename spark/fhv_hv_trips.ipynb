{
 "cells": [
  {
   "cell_type": "code",
   "execution_count": 1,
   "id": "e2c9400e",
   "metadata": {
    "execution": {
     "iopub.execute_input": "2023-03-02T18:32:07.827398Z",
     "iopub.status.busy": "2023-03-02T18:32:07.826598Z",
     "iopub.status.idle": "2023-03-02T18:33:02.529044Z",
     "shell.execute_reply": "2023-03-02T18:33:02.527399Z"
    },
    "papermill": {
     "duration": 54.715619,
     "end_time": "2023-03-02T18:33:02.532048",
     "exception": false,
     "start_time": "2023-03-02T18:32:07.816429",
     "status": "completed"
    },
    "tags": []
   },
   "outputs": [
    {
     "name": "stdout",
     "output_type": "stream",
     "text": [
      "Collecting pyspark\r\n",
      "  Downloading pyspark-3.3.2.tar.gz (281.4 MB)\r\n",
      "\u001b[2K     \u001b[90m━━━━━━━━━━━━━━━━━━━━━━━━━━━━━━━━━━━━━━━\u001b[0m \u001b[32m281.4/281.4 MB\u001b[0m \u001b[31m3.5 MB/s\u001b[0m eta \u001b[36m0:00:00\u001b[0m\r\n",
      "\u001b[?25h  Preparing metadata (setup.py) ... \u001b[?25l-\b \bdone\r\n",
      "\u001b[?25hCollecting py4j==0.10.9.5\r\n",
      "  Downloading py4j-0.10.9.5-py2.py3-none-any.whl (199 kB)\r\n",
      "\u001b[2K     \u001b[90m━━━━━━━━━━━━━━━━━━━━━━━━━━━━━━━━━━━━━━\u001b[0m \u001b[32m199.7/199.7 kB\u001b[0m \u001b[31m16.0 MB/s\u001b[0m eta \u001b[36m0:00:00\u001b[0m\r\n",
      "\u001b[?25hBuilding wheels for collected packages: pyspark\r\n",
      "  Building wheel for pyspark (setup.py) ... \u001b[?25l-\b \b\\\b \b|\b \b/\b \b-\b \b\\\b \b|\b \b/\b \b-\b \b\\\b \b|\b \b/\b \bdone\r\n",
      "\u001b[?25h  Created wheel for pyspark: filename=pyspark-3.3.2-py2.py3-none-any.whl size=281824025 sha256=169b30145166a2a50cc70d426d88fdcc4b7e7c349558bc6deb7d4009fc7ca064\r\n",
      "  Stored in directory: /root/.cache/pip/wheels/5a/54/9b/a89cac960efb57c4c35d41cc7c9f7b80daa21108bc376339b7\r\n",
      "Successfully built pyspark\r\n",
      "Installing collected packages: py4j, pyspark\r\n",
      "  Attempting uninstall: py4j\r\n",
      "    Found existing installation: py4j 0.10.9.7\r\n",
      "    Uninstalling py4j-0.10.9.7:\r\n",
      "      Successfully uninstalled py4j-0.10.9.7\r\n",
      "Successfully installed py4j-0.10.9.5 pyspark-3.3.2\r\n",
      "\u001b[33mWARNING: Running pip as the 'root' user can result in broken permissions and conflicting behaviour with the system package manager. It is recommended to use a virtual environment instead: https://pip.pypa.io/warnings/venv\u001b[0m\u001b[33m\r\n",
      "\u001b[0m"
     ]
    }
   ],
   "source": [
    "!pip install pyspark"
   ]
  },
  {
   "cell_type": "code",
   "execution_count": 2,
   "id": "87e5fc0e",
   "metadata": {
    "execution": {
     "iopub.execute_input": "2023-03-02T18:33:02.578795Z",
     "iopub.status.busy": "2023-03-02T18:33:02.577480Z",
     "iopub.status.idle": "2023-03-02T18:33:02.638815Z",
     "shell.execute_reply": "2023-03-02T18:33:02.637155Z"
    },
    "papermill": {
     "duration": 0.087968,
     "end_time": "2023-03-02T18:33:02.642107",
     "exception": false,
     "start_time": "2023-03-02T18:33:02.554139",
     "status": "completed"
    },
    "tags": []
   },
   "outputs": [],
   "source": [
    "import pyspark\n",
    "from pyspark.sql import SparkSession\n",
    "from pyspark.sql import types"
   ]
  },
  {
   "cell_type": "code",
   "execution_count": 3,
   "id": "60d562c8",
   "metadata": {
    "execution": {
     "iopub.execute_input": "2023-03-02T18:33:02.688307Z",
     "iopub.status.busy": "2023-03-02T18:33:02.687869Z",
     "iopub.status.idle": "2023-03-02T18:33:08.658946Z",
     "shell.execute_reply": "2023-03-02T18:33:08.657333Z"
    },
    "papermill": {
     "duration": 5.99896,
     "end_time": "2023-03-02T18:33:08.663794",
     "exception": false,
     "start_time": "2023-03-02T18:33:02.664834",
     "status": "completed"
    },
    "tags": []
   },
   "outputs": [
    {
     "name": "stderr",
     "output_type": "stream",
     "text": [
      "Setting default log level to \"WARN\".\n",
      "To adjust logging level use sc.setLogLevel(newLevel). For SparkR, use setLogLevel(newLevel).\n"
     ]
    },
    {
     "name": "stdout",
     "output_type": "stream",
     "text": [
      "23/03/02 18:33:06 WARN NativeCodeLoader: Unable to load native-hadoop library for your platform... using builtin-java classes where applicable\n"
     ]
    }
   ],
   "source": [
    "spark = SparkSession.builder \\\n",
    "    .master(\"local[*]\") \\\n",
    "    .appName('test') \\\n",
    "    .getOrCreate()"
   ]
  },
  {
   "cell_type": "code",
   "execution_count": 4,
   "id": "5dcc6f58",
   "metadata": {
    "execution": {
     "iopub.execute_input": "2023-03-02T18:33:08.715020Z",
     "iopub.status.busy": "2023-03-02T18:33:08.714606Z",
     "iopub.status.idle": "2023-03-02T18:33:08.723513Z",
     "shell.execute_reply": "2023-03-02T18:33:08.722575Z"
    },
    "papermill": {
     "duration": 0.034878,
     "end_time": "2023-03-02T18:33:08.725766",
     "exception": false,
     "start_time": "2023-03-02T18:33:08.690888",
     "status": "completed"
    },
    "tags": []
   },
   "outputs": [
    {
     "data": {
      "text/plain": [
       "'3.3.2'"
      ]
     },
     "execution_count": 4,
     "metadata": {},
     "output_type": "execute_result"
    }
   ],
   "source": [
    "spark.version"
   ]
  },
  {
   "cell_type": "code",
   "execution_count": 5,
   "id": "5b287452",
   "metadata": {
    "execution": {
     "iopub.execute_input": "2023-03-02T18:33:08.770941Z",
     "iopub.status.busy": "2023-03-02T18:33:08.770466Z",
     "iopub.status.idle": "2023-03-02T18:33:08.778273Z",
     "shell.execute_reply": "2023-03-02T18:33:08.777029Z"
    },
    "papermill": {
     "duration": 0.033366,
     "end_time": "2023-03-02T18:33:08.780650",
     "exception": false,
     "start_time": "2023-03-02T18:33:08.747284",
     "status": "completed"
    },
    "tags": []
   },
   "outputs": [],
   "source": [
    "schema = types.StructType([\n",
    "    types.StructField('dispatching_base_num', types.StringType(), True),\n",
    "    types.StructField('pickup_datetime', types.TimestampType(), True),\n",
    "    types.StructField('dropoff_datetime', types.TimestampType(), True),\n",
    "    types.StructField('PULocationID', types.IntegerType(), True),\n",
    "    types.StructField('DOLocationID', types.IntegerType(), True),\n",
    "    types.StructField('SR_Flag', types.StringType(), True),\n",
    "    types.StructField('Affiliated_base_number', types.StringType(), True)\n",
    "])"
   ]
  },
  {
   "cell_type": "code",
   "execution_count": 6,
   "id": "dddde663",
   "metadata": {
    "execution": {
     "iopub.execute_input": "2023-03-02T18:33:08.825587Z",
     "iopub.status.busy": "2023-03-02T18:33:08.825099Z",
     "iopub.status.idle": "2023-03-02T18:33:21.421423Z",
     "shell.execute_reply": "2023-03-02T18:33:21.420053Z"
    },
    "papermill": {
     "duration": 12.623187,
     "end_time": "2023-03-02T18:33:21.425449",
     "exception": false,
     "start_time": "2023-03-02T18:33:08.802262",
     "status": "completed"
    },
    "tags": []
   },
   "outputs": [],
   "source": [
    "from pyspark import SparkFiles\n",
    "\n",
    "f = \"https://github.com/DataTalksClub/nyc-tlc-data/releases/download/fhvhv/fhvhv_tripdata_2021-06.csv.gz\"\n",
    "spark.sparkContext.addFile(f)"
   ]
  },
  {
   "cell_type": "code",
   "execution_count": 7,
   "id": "0b46b698",
   "metadata": {
    "execution": {
     "iopub.execute_input": "2023-03-02T18:33:21.475332Z",
     "iopub.status.busy": "2023-03-02T18:33:21.474949Z",
     "iopub.status.idle": "2023-03-02T18:33:38.031630Z",
     "shell.execute_reply": "2023-03-02T18:33:38.030226Z"
    },
    "papermill": {
     "duration": 16.58387,
     "end_time": "2023-03-02T18:33:38.035620",
     "exception": false,
     "start_time": "2023-03-02T18:33:21.451750",
     "status": "completed"
    },
    "tags": []
   },
   "outputs": [
    {
     "name": "stderr",
     "output_type": "stream",
     "text": [
      "                                                                                \r"
     ]
    },
    {
     "data": {
      "text/plain": [
       "14961892"
      ]
     },
     "execution_count": 7,
     "metadata": {},
     "output_type": "execute_result"
    }
   ],
   "source": [
    "df = spark.read \\\n",
    "    .option(\"header\", \"true\") \\\n",
    "    .schema(schema) \\\n",
    "    .csv(\"file://\"+SparkFiles.get(\"fhvhv_tripdata_2021-06.csv.gz\"))\n",
    "\n",
    "df.count()"
   ]
  },
  {
   "cell_type": "code",
   "execution_count": 8,
   "id": "29b302b4",
   "metadata": {
    "execution": {
     "iopub.execute_input": "2023-03-02T18:33:38.103674Z",
     "iopub.status.busy": "2023-03-02T18:33:38.103096Z",
     "iopub.status.idle": "2023-03-02T18:33:38.119244Z",
     "shell.execute_reply": "2023-03-02T18:33:38.117980Z"
    },
    "papermill": {
     "duration": 0.055784,
     "end_time": "2023-03-02T18:33:38.124497",
     "exception": false,
     "start_time": "2023-03-02T18:33:38.068713",
     "status": "completed"
    },
    "tags": []
   },
   "outputs": [
    {
     "name": "stdout",
     "output_type": "stream",
     "text": [
      "root\n",
      " |-- dispatching_base_num: string (nullable = true)\n",
      " |-- pickup_datetime: timestamp (nullable = true)\n",
      " |-- dropoff_datetime: timestamp (nullable = true)\n",
      " |-- PULocationID: integer (nullable = true)\n",
      " |-- DOLocationID: integer (nullable = true)\n",
      " |-- SR_Flag: string (nullable = true)\n",
      " |-- Affiliated_base_number: string (nullable = true)\n",
      "\n"
     ]
    }
   ],
   "source": [
    "df.printSchema()"
   ]
  },
  {
   "cell_type": "markdown",
   "id": "320e4217",
   "metadata": {
    "papermill": {
     "duration": 0.021668,
     "end_time": "2023-03-02T18:33:38.175283",
     "exception": false,
     "start_time": "2023-03-02T18:33:38.153615",
     "status": "completed"
    },
    "tags": []
   },
   "source": [
    "**Q3**: How many taxi trips were there on June 15?"
   ]
  },
  {
   "cell_type": "code",
   "execution_count": 9,
   "id": "b435fab8",
   "metadata": {
    "execution": {
     "iopub.execute_input": "2023-03-02T18:33:38.221637Z",
     "iopub.status.busy": "2023-03-02T18:33:38.221103Z",
     "iopub.status.idle": "2023-03-02T18:33:38.227533Z",
     "shell.execute_reply": "2023-03-02T18:33:38.226001Z"
    },
    "papermill": {
     "duration": 0.032728,
     "end_time": "2023-03-02T18:33:38.229957",
     "exception": false,
     "start_time": "2023-03-02T18:33:38.197229",
     "status": "completed"
    },
    "tags": []
   },
   "outputs": [],
   "source": [
    "from pyspark.sql import functions as F"
   ]
  },
  {
   "cell_type": "code",
   "execution_count": 10,
   "id": "d95aeaca",
   "metadata": {
    "execution": {
     "iopub.execute_input": "2023-03-02T18:33:38.277652Z",
     "iopub.status.busy": "2023-03-02T18:33:38.276779Z",
     "iopub.status.idle": "2023-03-02T18:34:04.258309Z",
     "shell.execute_reply": "2023-03-02T18:34:04.256826Z"
    },
    "papermill": {
     "duration": 26.009616,
     "end_time": "2023-03-02T18:34:04.262279",
     "exception": false,
     "start_time": "2023-03-02T18:33:38.252663",
     "status": "completed"
    },
    "tags": []
   },
   "outputs": [
    {
     "name": "stderr",
     "output_type": "stream",
     "text": [
      "                                                                                \r"
     ]
    },
    {
     "data": {
      "text/plain": [
       "452470"
      ]
     },
     "execution_count": 10,
     "metadata": {},
     "output_type": "execute_result"
    }
   ],
   "source": [
    "df.withColumn('pickup_date', F.to_date(df.pickup_datetime))\\\n",
    ".filter(\"pickup_date = '2021-06-15'\").count()"
   ]
  },
  {
   "cell_type": "code",
   "execution_count": 11,
   "id": "9d2993cd",
   "metadata": {
    "execution": {
     "iopub.execute_input": "2023-03-02T18:34:04.311539Z",
     "iopub.status.busy": "2023-03-02T18:34:04.311012Z",
     "iopub.status.idle": "2023-03-02T18:34:04.378981Z",
     "shell.execute_reply": "2023-03-02T18:34:04.377651Z"
    },
    "papermill": {
     "duration": 0.095685,
     "end_time": "2023-03-02T18:34:04.382294",
     "exception": false,
     "start_time": "2023-03-02T18:34:04.286609",
     "status": "completed"
    },
    "tags": []
   },
   "outputs": [
    {
     "name": "stderr",
     "output_type": "stream",
     "text": [
      "/opt/conda/lib/python3.7/site-packages/pyspark/sql/dataframe.py:229: FutureWarning: Deprecated in 2.0, use createOrReplaceTempView instead.\n",
      "  warnings.warn(\"Deprecated in 2.0, use createOrReplaceTempView instead.\", FutureWarning)\n"
     ]
    }
   ],
   "source": [
    "df.registerTempTable('fhvhv_trips')"
   ]
  },
  {
   "cell_type": "code",
   "execution_count": 12,
   "id": "586c6c7d",
   "metadata": {
    "execution": {
     "iopub.execute_input": "2023-03-02T18:34:04.454511Z",
     "iopub.status.busy": "2023-03-02T18:34:04.453919Z",
     "iopub.status.idle": "2023-03-02T18:34:30.592019Z",
     "shell.execute_reply": "2023-03-02T18:34:30.590453Z"
    },
    "papermill": {
     "duration": 26.18178,
     "end_time": "2023-03-02T18:34:30.598542",
     "exception": false,
     "start_time": "2023-03-02T18:34:04.416762",
     "status": "completed"
    },
    "tags": []
   },
   "outputs": [
    {
     "name": "stderr",
     "output_type": "stream",
     "text": [
      "[Stage 6:>                                                          (0 + 1) / 1]\r"
     ]
    },
    {
     "name": "stdout",
     "output_type": "stream",
     "text": [
      "+--------+\n",
      "|count(1)|\n",
      "+--------+\n",
      "|  452470|\n",
      "+--------+\n",
      "\n"
     ]
    },
    {
     "name": "stderr",
     "output_type": "stream",
     "text": [
      "                                                                                \r"
     ]
    }
   ],
   "source": [
    "spark.sql(\"\"\"\n",
    "SELECT\n",
    "    COUNT(1)\n",
    "FROM \n",
    "    fhvhv_trips\n",
    "WHERE\n",
    "    to_date(pickup_datetime) = '2021-06-15';\n",
    "\"\"\").show()"
   ]
  },
  {
   "cell_type": "markdown",
   "id": "ed92f0bc",
   "metadata": {
    "papermill": {
     "duration": 0.03322,
     "end_time": "2023-03-02T18:34:30.665113",
     "exception": false,
     "start_time": "2023-03-02T18:34:30.631893",
     "status": "completed"
    },
    "tags": []
   },
   "source": [
    "**Q4**: Longest trip for each day"
   ]
  },
  {
   "cell_type": "code",
   "execution_count": 13,
   "id": "097b4133",
   "metadata": {
    "execution": {
     "iopub.execute_input": "2023-03-02T18:34:30.735432Z",
     "iopub.status.busy": "2023-03-02T18:34:30.734537Z",
     "iopub.status.idle": "2023-03-02T18:34:30.743186Z",
     "shell.execute_reply": "2023-03-02T18:34:30.742009Z"
    },
    "papermill": {
     "duration": 0.047278,
     "end_time": "2023-03-02T18:34:30.746143",
     "exception": false,
     "start_time": "2023-03-02T18:34:30.698865",
     "status": "completed"
    },
    "tags": []
   },
   "outputs": [
    {
     "data": {
      "text/plain": [
       "['dispatching_base_num',\n",
       " 'pickup_datetime',\n",
       " 'dropoff_datetime',\n",
       " 'PULocationID',\n",
       " 'DOLocationID',\n",
       " 'SR_Flag',\n",
       " 'Affiliated_base_number']"
      ]
     },
     "execution_count": 13,
     "metadata": {},
     "output_type": "execute_result"
    }
   ],
   "source": [
    "df.columns"
   ]
  },
  {
   "cell_type": "code",
   "execution_count": 14,
   "id": "e63c6a36",
   "metadata": {
    "execution": {
     "iopub.execute_input": "2023-03-02T18:34:30.796136Z",
     "iopub.status.busy": "2023-03-02T18:34:30.795160Z",
     "iopub.status.idle": "2023-03-02T18:35:02.193610Z",
     "shell.execute_reply": "2023-03-02T18:35:02.192312Z"
    },
    "papermill": {
     "duration": 31.44634,
     "end_time": "2023-03-02T18:35:02.217095",
     "exception": false,
     "start_time": "2023-03-02T18:34:30.770755",
     "status": "completed"
    },
    "tags": []
   },
   "outputs": [
    {
     "name": "stderr",
     "output_type": "stream",
     "text": [
      "[Stage 9:>                                                          (0 + 1) / 1]\r"
     ]
    },
    {
     "name": "stdout",
     "output_type": "stream",
     "text": [
      "+-----------+-------------+\n",
      "|pickup_date|max(duration)|\n",
      "+-----------+-------------+\n",
      "| 2021-06-25|       240764|\n",
      "| 2021-06-22|        91979|\n",
      "| 2021-06-27|        71931|\n",
      "| 2021-06-26|        65510|\n",
      "| 2021-06-23|        59281|\n",
      "+-----------+-------------+\n",
      "\n"
     ]
    },
    {
     "name": "stderr",
     "output_type": "stream",
     "text": [
      "                                                                                \r"
     ]
    }
   ],
   "source": [
    "df \\\n",
    "    .withColumn('duration', df.dropoff_datetime.cast('long') - df.pickup_datetime.cast('long')) \\\n",
    "    .withColumn('pickup_date', F.to_date(df.pickup_datetime)) \\\n",
    "    .groupBy('pickup_date') \\\n",
    "        .max('duration') \\\n",
    "    .orderBy('max(duration)', ascending=False) \\\n",
    "    .limit(5) \\\n",
    "    .show()"
   ]
  },
  {
   "cell_type": "code",
   "execution_count": 15,
   "id": "216f9224",
   "metadata": {
    "execution": {
     "iopub.execute_input": "2023-03-02T18:35:02.264930Z",
     "iopub.status.busy": "2023-03-02T18:35:02.264495Z",
     "iopub.status.idle": "2023-03-02T18:35:33.893234Z",
     "shell.execute_reply": "2023-03-02T18:35:33.891613Z"
    },
    "papermill": {
     "duration": 31.690458,
     "end_time": "2023-03-02T18:35:33.930238",
     "exception": false,
     "start_time": "2023-03-02T18:35:02.239780",
     "status": "completed"
    },
    "scrolled": true,
    "tags": []
   },
   "outputs": [
    {
     "name": "stderr",
     "output_type": "stream",
     "text": [
      "[Stage 12:>                                                         (0 + 1) / 1]\r"
     ]
    },
    {
     "name": "stdout",
     "output_type": "stream",
     "text": [
      "+-----------+------------------+\n",
      "|pickup_date|          duration|\n",
      "+-----------+------------------+\n",
      "| 2021-06-25|  66.8788888888889|\n",
      "| 2021-06-22|25.549722222222222|\n",
      "| 2021-06-27|19.980833333333333|\n",
      "| 2021-06-26|18.197222222222223|\n",
      "| 2021-06-23|16.466944444444444|\n",
      "| 2021-06-24|13.909722222222221|\n",
      "| 2021-06-04|             11.67|\n",
      "| 2021-06-20|10.984444444444444|\n",
      "| 2021-06-01|           10.2675|\n",
      "| 2021-06-28| 9.966388888888888|\n",
      "+-----------+------------------+\n",
      "\n"
     ]
    },
    {
     "name": "stderr",
     "output_type": "stream",
     "text": [
      "                                                                                \r"
     ]
    }
   ],
   "source": [
    "spark.sql(\"\"\"\n",
    "SELECT\n",
    "    to_date(pickup_datetime) AS pickup_date,\n",
    "    MAX((CAST(dropoff_datetime AS LONG) - CAST(pickup_datetime AS LONG)) / 3600) AS duration\n",
    "FROM \n",
    "    fhvhv_trips\n",
    "GROUP BY\n",
    "    1\n",
    "ORDER BY\n",
    "    2 DESC\n",
    "LIMIT 10;\n",
    "\"\"\").show()"
   ]
  },
  {
   "cell_type": "markdown",
   "id": "85107a85",
   "metadata": {
    "papermill": {
     "duration": 0.035036,
     "end_time": "2023-03-02T18:35:34.000488",
     "exception": false,
     "start_time": "2023-03-02T18:35:33.965452",
     "status": "completed"
    },
    "tags": []
   },
   "source": [
    "**Q6**: Most common pikcup zone name"
   ]
  },
  {
   "cell_type": "code",
   "execution_count": 16,
   "id": "a9204490",
   "metadata": {
    "execution": {
     "iopub.execute_input": "2023-03-02T18:35:34.078860Z",
     "iopub.status.busy": "2023-03-02T18:35:34.078297Z",
     "iopub.status.idle": "2023-03-02T18:35:34.648983Z",
     "shell.execute_reply": "2023-03-02T18:35:34.647861Z"
    },
    "papermill": {
     "duration": 0.612223,
     "end_time": "2023-03-02T18:35:34.651876",
     "exception": false,
     "start_time": "2023-03-02T18:35:34.039653",
     "status": "completed"
    },
    "tags": []
   },
   "outputs": [],
   "source": [
    "f = \"https://s3.amazonaws.com/nyc-tlc/misc/taxi+_zone_lookup.csv\"\n",
    "spark.sparkContext.addFile(f)"
   ]
  },
  {
   "cell_type": "code",
   "execution_count": 17,
   "id": "d2456702",
   "metadata": {
    "execution": {
     "iopub.execute_input": "2023-03-02T18:35:34.700920Z",
     "iopub.status.busy": "2023-03-02T18:35:34.700461Z",
     "iopub.status.idle": "2023-03-02T18:35:35.363501Z",
     "shell.execute_reply": "2023-03-02T18:35:35.362374Z"
    },
    "papermill": {
     "duration": 0.691945,
     "end_time": "2023-03-02T18:35:35.367246",
     "exception": false,
     "start_time": "2023-03-02T18:35:34.675301",
     "status": "completed"
    },
    "tags": []
   },
   "outputs": [],
   "source": [
    "df_zones = spark.read.option(\"header\",\"true\").csv(\"file://\"+SparkFiles.get(\"taxi+_zone_lookup.csv\"))"
   ]
  },
  {
   "cell_type": "code",
   "execution_count": 18,
   "id": "91c937fd",
   "metadata": {
    "execution": {
     "iopub.execute_input": "2023-03-02T18:35:35.437522Z",
     "iopub.status.busy": "2023-03-02T18:35:35.436936Z",
     "iopub.status.idle": "2023-03-02T18:35:35.624317Z",
     "shell.execute_reply": "2023-03-02T18:35:35.622984Z"
    },
    "papermill": {
     "duration": 0.225471,
     "end_time": "2023-03-02T18:35:35.627346",
     "exception": false,
     "start_time": "2023-03-02T18:35:35.401875",
     "status": "completed"
    },
    "tags": []
   },
   "outputs": [
    {
     "data": {
      "text/plain": [
       "(265, ['LocationID', 'Borough', 'Zone', 'service_zone'])"
      ]
     },
     "execution_count": 18,
     "metadata": {},
     "output_type": "execute_result"
    }
   ],
   "source": [
    "df_zones.count(), df_zones.columns"
   ]
  },
  {
   "cell_type": "code",
   "execution_count": 19,
   "id": "94e956fa",
   "metadata": {
    "execution": {
     "iopub.execute_input": "2023-03-02T18:35:35.677402Z",
     "iopub.status.busy": "2023-03-02T18:35:35.676520Z",
     "iopub.status.idle": "2023-03-02T18:35:35.684686Z",
     "shell.execute_reply": "2023-03-02T18:35:35.682980Z"
    },
    "papermill": {
     "duration": 0.036762,
     "end_time": "2023-03-02T18:35:35.687275",
     "exception": false,
     "start_time": "2023-03-02T18:35:35.650513",
     "status": "completed"
    },
    "tags": []
   },
   "outputs": [
    {
     "name": "stdout",
     "output_type": "stream",
     "text": [
      "root\n",
      " |-- dispatching_base_num: string (nullable = true)\n",
      " |-- pickup_datetime: timestamp (nullable = true)\n",
      " |-- dropoff_datetime: timestamp (nullable = true)\n",
      " |-- PULocationID: integer (nullable = true)\n",
      " |-- DOLocationID: integer (nullable = true)\n",
      " |-- SR_Flag: string (nullable = true)\n",
      " |-- Affiliated_base_number: string (nullable = true)\n",
      "\n"
     ]
    }
   ],
   "source": [
    "df.printSchema()"
   ]
  },
  {
   "cell_type": "code",
   "execution_count": 20,
   "id": "753de754",
   "metadata": {
    "execution": {
     "iopub.execute_input": "2023-03-02T18:35:35.736737Z",
     "iopub.status.busy": "2023-03-02T18:35:35.736286Z",
     "iopub.status.idle": "2023-03-02T18:35:35.753909Z",
     "shell.execute_reply": "2023-03-02T18:35:35.752772Z"
    },
    "papermill": {
     "duration": 0.046515,
     "end_time": "2023-03-02T18:35:35.757259",
     "exception": false,
     "start_time": "2023-03-02T18:35:35.710744",
     "status": "completed"
    },
    "tags": []
   },
   "outputs": [],
   "source": [
    "df_zones.registerTempTable('zones')"
   ]
  },
  {
   "cell_type": "code",
   "execution_count": 21,
   "id": "03a91fdd",
   "metadata": {
    "execution": {
     "iopub.execute_input": "2023-03-02T18:35:35.806667Z",
     "iopub.status.busy": "2023-03-02T18:35:35.805422Z",
     "iopub.status.idle": "2023-03-02T18:36:02.480006Z",
     "shell.execute_reply": "2023-03-02T18:36:02.478673Z"
    },
    "papermill": {
     "duration": 26.702057,
     "end_time": "2023-03-02T18:36:02.482832",
     "exception": false,
     "start_time": "2023-03-02T18:35:35.780775",
     "status": "completed"
    },
    "tags": []
   },
   "outputs": [
    {
     "name": "stderr",
     "output_type": "stream",
     "text": [
      "[Stage 20:>                                                         (0 + 1) / 1]\r"
     ]
    },
    {
     "name": "stdout",
     "output_type": "stream",
     "text": [
      "+--------------------+--------+\n",
      "|    pickup_zone_desc|count(1)|\n",
      "+--------------------+--------+\n",
      "| Crown Heights North|  231279|\n",
      "|        East Village|  221244|\n",
      "|         JFK Airport|  188867|\n",
      "|      Bushwick South|  187929|\n",
      "|       East New York|  186780|\n",
      "|TriBeCa/Civic Center|  164344|\n",
      "|   LaGuardia Airport|  161596|\n",
      "|            Union Sq|  158937|\n",
      "|        West Village|  154698|\n",
      "|             Astoria|  152493|\n",
      "+--------------------+--------+\n",
      "\n"
     ]
    },
    {
     "name": "stderr",
     "output_type": "stream",
     "text": [
      "                                                                                \r"
     ]
    }
   ],
   "source": [
    "spark.sql(\"\"\"\n",
    "SELECT\n",
    "    pul.Zone AS pickup_zone_desc,\n",
    "    COUNT(1)\n",
    "FROM \n",
    "    fhvhv_trips fhv \n",
    "    LEFT JOIN zones pul ON fhv.PULocationID = pul.LocationID\n",
    "GROUP BY \n",
    "    1\n",
    "ORDER BY\n",
    "    2 DESC\n",
    "LIMIT 10;\n",
    "\"\"\").show()"
   ]
  },
  {
   "cell_type": "code",
   "execution_count": 22,
   "id": "df1bbe7c",
   "metadata": {
    "execution": {
     "iopub.execute_input": "2023-03-02T18:36:02.532071Z",
     "iopub.status.busy": "2023-03-02T18:36:02.531678Z",
     "iopub.status.idle": "2023-03-02T18:36:35.922186Z",
     "shell.execute_reply": "2023-03-02T18:36:35.920641Z"
    },
    "papermill": {
     "duration": 33.451888,
     "end_time": "2023-03-02T18:36:35.958496",
     "exception": false,
     "start_time": "2023-03-02T18:36:02.506608",
     "status": "completed"
    },
    "tags": []
   },
   "outputs": [
    {
     "name": "stderr",
     "output_type": "stream",
     "text": [
      "[Stage 24:>                                                         (0 + 1) / 1]\r"
     ]
    },
    {
     "name": "stdout",
     "output_type": "stream",
     "text": [
      "+--------------------+--------+\n",
      "|          pu_do_pair|count(1)|\n",
      "+--------------------+--------+\n",
      "|East New York / E...|   47926|\n",
      "|    JFK Airport / NA|   31321|\n",
      "| Canarsie / Canarsie|   28230|\n",
      "|Crown Heights Nor...|   25216|\n",
      "|Borough Park / Bo...|   24778|\n",
      "+--------------------+--------+\n",
      "\n"
     ]
    },
    {
     "name": "stderr",
     "output_type": "stream",
     "text": [
      "                                                                                \r"
     ]
    }
   ],
   "source": [
    "spark.sql(\"\"\"\n",
    "SELECT\n",
    "    CONCAT(pul.Zone, ' / ', dol.Zone) AS pu_do_pair,\n",
    "    COUNT(1)\n",
    "FROM \n",
    "    fhvhv_trips fhv \n",
    "    LEFT JOIN zones pul ON fhv.PULocationID = pul.LocationID\n",
    "    LEFT JOIN zones dol ON fhv.DOLocationID = dol.LocationID\n",
    "GROUP BY \n",
    "    1\n",
    "ORDER BY\n",
    "    2 DESC\n",
    "LIMIT 5;\n",
    "\"\"\").show()"
   ]
  },
  {
   "cell_type": "code",
   "execution_count": 23,
   "id": "2a5edd13",
   "metadata": {
    "_kg_hide-output": true,
    "execution": {
     "iopub.execute_input": "2023-03-02T18:36:36.031786Z",
     "iopub.status.busy": "2023-03-02T18:36:36.031202Z",
     "iopub.status.idle": "2023-03-02T18:38:13.387925Z",
     "shell.execute_reply": "2023-03-02T18:38:13.386495Z"
    },
    "papermill": {
     "duration": 97.398475,
     "end_time": "2023-03-02T18:38:13.391890",
     "exception": false,
     "start_time": "2023-03-02T18:36:35.993415",
     "status": "completed"
    },
    "tags": []
   },
   "outputs": [
    {
     "name": "stderr",
     "output_type": "stream",
     "text": [
      "                                                                                \r"
     ]
    }
   ],
   "source": [
    "pq_path = 'pq/fhvhv/2021/06/'\n",
    "df.repartition(12).write.parquet(pq_path)"
   ]
  },
  {
   "cell_type": "code",
   "execution_count": 24,
   "id": "4defb81b",
   "metadata": {
    "execution": {
     "iopub.execute_input": "2023-03-02T18:38:13.444193Z",
     "iopub.status.busy": "2023-03-02T18:38:13.443344Z",
     "iopub.status.idle": "2023-03-02T18:38:14.482916Z",
     "shell.execute_reply": "2023-03-02T18:38:14.481272Z"
    },
    "papermill": {
     "duration": 1.068716,
     "end_time": "2023-03-02T18:38:14.485938",
     "exception": false,
     "start_time": "2023-03-02T18:38:13.417222",
     "status": "completed"
    },
    "tags": []
   },
   "outputs": [
    {
     "name": "stdout",
     "output_type": "stream",
     "text": [
      "total 284M\r\n",
      "-rw-r--r-- 1 root root   0 Mar  2 18:38 _SUCCESS\r\n",
      "-rw-r--r-- 1 root root 24M Mar  2 18:38 part-00000-8b0a51f5-00a9-4c9b-b0d7-8efce094fd6f-c000.snappy.parquet\r\n",
      "-rw-r--r-- 1 root root 24M Mar  2 18:38 part-00001-8b0a51f5-00a9-4c9b-b0d7-8efce094fd6f-c000.snappy.parquet\r\n",
      "-rw-r--r-- 1 root root 24M Mar  2 18:38 part-00002-8b0a51f5-00a9-4c9b-b0d7-8efce094fd6f-c000.snappy.parquet\r\n",
      "-rw-r--r-- 1 root root 24M Mar  2 18:38 part-00003-8b0a51f5-00a9-4c9b-b0d7-8efce094fd6f-c000.snappy.parquet\r\n",
      "-rw-r--r-- 1 root root 24M Mar  2 18:38 part-00004-8b0a51f5-00a9-4c9b-b0d7-8efce094fd6f-c000.snappy.parquet\r\n",
      "-rw-r--r-- 1 root root 24M Mar  2 18:38 part-00005-8b0a51f5-00a9-4c9b-b0d7-8efce094fd6f-c000.snappy.parquet\r\n",
      "-rw-r--r-- 1 root root 24M Mar  2 18:38 part-00006-8b0a51f5-00a9-4c9b-b0d7-8efce094fd6f-c000.snappy.parquet\r\n",
      "-rw-r--r-- 1 root root 24M Mar  2 18:38 part-00007-8b0a51f5-00a9-4c9b-b0d7-8efce094fd6f-c000.snappy.parquet\r\n",
      "-rw-r--r-- 1 root root 24M Mar  2 18:38 part-00008-8b0a51f5-00a9-4c9b-b0d7-8efce094fd6f-c000.snappy.parquet\r\n",
      "-rw-r--r-- 1 root root 24M Mar  2 18:38 part-00009-8b0a51f5-00a9-4c9b-b0d7-8efce094fd6f-c000.snappy.parquet\r\n",
      "-rw-r--r-- 1 root root 24M Mar  2 18:38 part-00010-8b0a51f5-00a9-4c9b-b0d7-8efce094fd6f-c000.snappy.parquet\r\n",
      "-rw-r--r-- 1 root root 24M Mar  2 18:38 part-00011-8b0a51f5-00a9-4c9b-b0d7-8efce094fd6f-c000.snappy.parquet\r\n"
     ]
    }
   ],
   "source": [
    "!ls -lh pq/fhvhv/2021/06"
   ]
  },
  {
   "cell_type": "code",
   "execution_count": 25,
   "id": "3218699f",
   "metadata": {
    "execution": {
     "iopub.execute_input": "2023-03-02T18:38:14.536897Z",
     "iopub.status.busy": "2023-03-02T18:38:14.536447Z",
     "iopub.status.idle": "2023-03-02T18:38:14.540847Z",
     "shell.execute_reply": "2023-03-02T18:38:14.539936Z"
    },
    "papermill": {
     "duration": 0.032806,
     "end_time": "2023-03-02T18:38:14.542984",
     "exception": false,
     "start_time": "2023-03-02T18:38:14.510178",
     "status": "completed"
    },
    "tags": []
   },
   "outputs": [],
   "source": [
    "# df = spark.read.parquet(pq_path)"
   ]
  }
 ],
 "metadata": {
  "kernelspec": {
   "display_name": "Python 3",
   "language": "python",
   "name": "python3"
  },
  "language_info": {
   "codemirror_mode": {
    "name": "ipython",
    "version": 3
   },
   "file_extension": ".py",
   "mimetype": "text/x-python",
   "name": "python",
   "nbconvert_exporter": "python",
   "pygments_lexer": "ipython3",
   "version": "3.7.12"
  },
  "papermill": {
   "default_parameters": {},
   "duration": 379.884551,
   "end_time": "2023-03-02T18:38:17.190532",
   "environment_variables": {},
   "exception": null,
   "input_path": "__notebook__.ipynb",
   "output_path": "__notebook__.ipynb",
   "parameters": {},
   "start_time": "2023-03-02T18:31:57.305981",
   "version": "2.4.0"
  }
 },
 "nbformat": 4,
 "nbformat_minor": 5
}
